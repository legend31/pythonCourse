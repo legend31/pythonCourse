{
 "cells": [
  {
   "cell_type": "markdown",
   "metadata": {},
   "source": [
    "### Lists Operations\n",
    "Mutable,Ordered"
   ]
  },
  {
   "cell_type": "code",
   "execution_count": 42,
   "metadata": {},
   "outputs": [
    {
     "name": "stdout",
     "output_type": "stream",
     "text": [
      "[0, 2, 4, 6, 8, 10, 12, 14, 16, 18, 20]\n"
     ]
    },
    {
     "data": {
      "text/plain": [
       "[1, 4, 7, 10, 13, 16, 19]"
      ]
     },
     "execution_count": 42,
     "metadata": {},
     "output_type": "execute_result"
    }
   ],
   "source": [
    "#regular method\n",
    "l=[]\n",
    "for i in range(0,21,2):\n",
    "    l.append(i)\n",
    "print(l)\n",
    "\n",
    "#list comprenhension\n",
    "ll=[i for i in range(1,21,3)]\n",
    "ll"
   ]
  },
  {
   "cell_type": "code",
   "execution_count": 43,
   "metadata": {},
   "outputs": [
    {
     "data": {
      "text/plain": [
       "[[1, 4, 7, 10, 13, 16, 19], 0, 2, 4, 6, 8, 10, 12, 14, 16, 18, 20]"
      ]
     },
     "execution_count": 43,
     "metadata": {},
     "output_type": "execute_result"
    }
   ],
   "source": [
    "#insert, inserts the element at the position you choose\n",
    "l.insert(0,ll)\n",
    "l"
   ]
  },
  {
   "cell_type": "code",
   "execution_count": 8,
   "metadata": {},
   "outputs": [
    {
     "data": {
      "text/plain": [
       "[0, 2, 4, 6, 8, 10, 12, 14, 16, 18, 20, [1, 4, 7, 10, 13, 16, 19]]"
      ]
     },
     "execution_count": 8,
     "metadata": {},
     "output_type": "execute_result"
    }
   ],
   "source": [
    "#append a list to a list (meaning insert at the end)\n",
    "l.append(ll)\n",
    "l"
   ]
  },
  {
   "cell_type": "code",
   "execution_count": 11,
   "metadata": {},
   "outputs": [
    {
     "data": {
      "text/plain": [
       "[0, 2, 4, 6, 8, 10, 12, 14, 16, 18, 20, 1, 4, 7, 10, 13, 16, 19]"
      ]
     },
     "execution_count": 11,
     "metadata": {},
     "output_type": "execute_result"
    }
   ],
   "source": [
    "#but you can actually have them on a single list & not a list of lists\n",
    "l.extend(ll)\n",
    "l"
   ]
  },
  {
   "cell_type": "code",
   "execution_count": 18,
   "metadata": {},
   "outputs": [
    {
     "data": {
      "text/plain": [
       "5"
      ]
     },
     "execution_count": 18,
     "metadata": {},
     "output_type": "execute_result"
    }
   ],
   "source": [
    "#index gives you the index of the 1st element that you're looking for (If not found if gives u Value Error)\n",
    "#find on strings gives a -1 if not found (find is not available on lists only on strings)\n",
    "l.index(8)"
   ]
  },
  {
   "cell_type": "code",
   "execution_count": 24,
   "metadata": {},
   "outputs": [
    {
     "name": "stdout",
     "output_type": "stream",
     "text": [
      "[1, 4, 7, 10, 13, 16, 19]\n"
     ]
    },
    {
     "data": {
      "text/plain": [
       "[1, 4, 7, 13, 16, 19]"
      ]
     },
     "execution_count": 24,
     "metadata": {},
     "output_type": "execute_result"
    }
   ],
   "source": [
    "#Removes an element (1st occurrence, Value Error if not found)\n",
    "print(ll)\n",
    "ll.remove(10)\n",
    "ll"
   ]
  },
  {
   "cell_type": "code",
   "execution_count": 25,
   "metadata": {},
   "outputs": [
    {
     "name": "stdout",
     "output_type": "stream",
     "text": [
      "[1, 4, 7, 13, 16, 19]\n"
     ]
    },
    {
     "data": {
      "text/plain": [
       "[1, 4, 7, 13, 16]"
      ]
     },
     "execution_count": 25,
     "metadata": {},
     "output_type": "execute_result"
    }
   ],
   "source": [
    "#removes last element by default but you can indicate index\n",
    "print(ll)\n",
    "ll.pop()\n",
    "ll"
   ]
  },
  {
   "cell_type": "code",
   "execution_count": 31,
   "metadata": {},
   "outputs": [
    {
     "name": "stdout",
     "output_type": "stream",
     "text": [
      "[[1, 4, 7, 13, 16], 0, 2, 4, 6, 8, 12, 14, 16, 18, 20]\n",
      "Lista:  [1, 4, 7, 13, 16]\n",
      "Elemento: 0\n",
      "Elemento: 2\n",
      "Elemento: 4\n",
      "Elemento: 6\n",
      "Elemento: 8\n",
      "Elemento: 12\n",
      "Elemento: 14\n",
      "Elemento: 16\n",
      "Elemento: 18\n",
      "Elemento: 20\n"
     ]
    }
   ],
   "source": [
    "print(l)\n",
    "for i in l:\n",
    "    if type(i)==list:\n",
    "        print('Lista: ',i)\n",
    "    else:\n",
    "        print('Elemento:',i)\n"
   ]
  },
  {
   "cell_type": "code",
   "execution_count": 44,
   "metadata": {},
   "outputs": [
    {
     "name": "stdout",
     "output_type": "stream",
     "text": [
      "[[1, 4, 7, 10, 13, 16, 19], 0, 2, 4, 6, 8, 10, 12, 14, 16, 18, 20]\n",
      "Eliminando de la lista:  [1, 7, 10, 13, 16, 19]\n",
      "No se puede remover\n",
      "No se puede remover\n",
      "Eliminando elemento: 4\n",
      "No se puede remover\n",
      "No se puede remover\n",
      "No se puede remover\n",
      "No se puede remover\n",
      "No se puede remover\n",
      "No se puede remover\n",
      "No se puede remover\n"
     ]
    },
    {
     "data": {
      "text/plain": [
       "[[1, 7, 10, 13, 16, 19], 0, 2, 6, 8, 10, 12, 14, 16, 18, 20]"
      ]
     },
     "execution_count": 44,
     "metadata": {},
     "output_type": "execute_result"
    }
   ],
   "source": [
    "#if i want to delete all fours, there's one as an element & another as an element of a nested list so remove would olny\n",
    "#work on elements for the nested one i need to do this\n",
    "print(l)\n",
    "r=4\n",
    "for i in l:\n",
    "    if type(i)==list:\n",
    "        i.remove(r)\n",
    "        print('Eliminando de la lista: ',i)\n",
    "    elif i==r:\n",
    "        l.remove(r)\n",
    "        print('Eliminando elemento:',i)\n",
    "    else:\n",
    "        print('No se puede remover')\n",
    "l"
   ]
  },
  {
   "cell_type": "markdown",
   "metadata": {},
   "source": [
    "### Tuples\n",
    "Inmutable,Ordered"
   ]
  }
 ],
 "metadata": {
  "kernelspec": {
   "display_name": "Python 3",
   "language": "python",
   "name": "python3"
  },
  "language_info": {
   "codemirror_mode": {
    "name": "ipython",
    "version": 3
   },
   "file_extension": ".py",
   "mimetype": "text/x-python",
   "name": "python",
   "nbconvert_exporter": "python",
   "pygments_lexer": "ipython3",
   "version": "3.7.3"
  }
 },
 "nbformat": 4,
 "nbformat_minor": 2
}
